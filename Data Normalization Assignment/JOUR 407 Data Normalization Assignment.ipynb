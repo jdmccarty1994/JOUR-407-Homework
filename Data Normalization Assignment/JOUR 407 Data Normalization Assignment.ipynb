{
 "cells": [
  {
   "cell_type": "code",
   "execution_count": 18,
   "metadata": {
    "collapsed": true
   },
   "outputs": [],
   "source": [
    "import agate"
   ]
  },
  {
   "cell_type": "markdown",
   "metadata": {},
   "source": [
    "****I imported the agate data library"
   ]
  },
  {
   "cell_type": "code",
   "execution_count": 19,
   "metadata": {
    "collapsed": false
   },
   "outputs": [],
   "source": [
    "spills = agate.Table.from_csv('downloads/spillfac-csv.csv')"
   ]
  },
  {
   "cell_type": "markdown",
   "metadata": {},
   "source": [
    "****I instructed jupyter to create a table from the data."
   ]
  },
  {
   "cell_type": "code",
   "execution_count": 20,
   "metadata": {
    "collapsed": false
   },
   "outputs": [
    {
     "name": "stdout",
     "output_type": "stream",
     "text": [
      "|--------------------------------------+---------------|\n",
      "|  column_names                        | column_types  |\n",
      "|--------------------------------------+---------------|\n",
      "|  SPILLNO-------                      | Text          |\n",
      "|  S                                   | Text          |\n",
      "|  OWNCO--------------------           | Text          |\n",
      "|  OWNSTREET-----------                | Text          |\n",
      "|  OWNCITY-------------                | Text          |\n",
      "|  OS                                  | Text          |\n",
      "|  OZIP                                | Text          |\n",
      "|  TY                                  | Number        |\n",
      "|  DIDATE----                          | Date          |\n",
      "|  SPLOC     ------------------------- | Text          |\n",
      "|  SPCITY-------------------           | Text          |\n",
      "|  SPCOUN-------------------           | Text          |\n",
      "|  MATERIAL----------------------      | Text          |\n",
      "|  SFM_ID--                            | Text          |\n",
      "|  FAC_NAME-----------------           | Text          |\n",
      "|--------------------------------------+---------------|\n",
      "\n"
     ]
    }
   ],
   "source": [
    "print(spills)"
   ]
  },
  {
   "cell_type": "markdown",
   "metadata": {},
   "source": [
    "****I printed the structure of the table."
   ]
  },
  {
   "cell_type": "code",
   "execution_count": 21,
   "metadata": {
    "collapsed": false
   },
   "outputs": [
    {
     "name": "stdout",
     "output_type": "stream",
     "text": [
      "18545\n"
     ]
    }
   ],
   "source": [
    "print(len(spills.rows))"
   ]
  },
  {
   "cell_type": "markdown",
   "metadata": {},
   "source": [
    "****I printed the number of rows."
   ]
  },
  {
   "cell_type": "code",
   "execution_count": 22,
   "metadata": {
    "collapsed": false
   },
   "outputs": [
    {
     "name": "stdout",
     "output_type": "stream",
     "text": [
      "2379\n"
     ]
    }
   ],
   "source": [
    "spills1 = spills.where(lambda row: row['S'] != '5')\n",
    "print(len(spills1.rows))"
   ]
  },
  {
   "cell_type": "markdown",
   "metadata": {},
   "source": [
    "****I filtered the data to include only active spills."
   ]
  },
  {
   "cell_type": "code",
   "execution_count": 23,
   "metadata": {
    "collapsed": false
   },
   "outputs": [
    {
     "name": "stdout",
     "output_type": "stream",
     "text": [
      "1783\n"
     ]
    }
   ],
   "source": [
    "spills2 = spills1.where(lambda row: row['S'] != '6')\n",
    "print(len(spills2.rows))"
   ]
  },
  {
   "cell_type": "markdown",
   "metadata": {},
   "source": [
    "****I filtered the data to include only active spills."
   ]
  },
  {
   "cell_type": "code",
   "execution_count": 24,
   "metadata": {
    "collapsed": false
   },
   "outputs": [
    {
     "name": "stdout",
     "output_type": "stream",
     "text": [
      "1719\n"
     ]
    }
   ],
   "source": [
    "spills3 = spills2.where(lambda row: row['S'] != '7')\n",
    "print(len(spills3.rows))"
   ]
  },
  {
   "cell_type": "markdown",
   "metadata": {},
   "source": [
    "****I filtered the data to include only active spills"
   ]
  },
  {
   "cell_type": "code",
   "execution_count": 25,
   "metadata": {
    "collapsed": false
   },
   "outputs": [
    {
     "name": "stdout",
     "output_type": "stream",
     "text": [
      "1447\n"
     ]
    }
   ],
   "source": [
    "spills4 = spills3.where(lambda row: row['S'] != '8')\n",
    "print(len(spills4.rows))"
   ]
  },
  {
   "cell_type": "markdown",
   "metadata": {},
   "source": [
    "****I filtered the data to include only active spills."
   ]
  },
  {
   "cell_type": "code",
   "execution_count": 26,
   "metadata": {
    "collapsed": false
   },
   "outputs": [
    {
     "name": "stdout",
     "output_type": "stream",
     "text": [
      "1264\n"
     ]
    }
   ],
   "source": [
    "spills5 = spills4.where(lambda row: row['S'] != 'R')\n",
    "print(len(spills5.rows))"
   ]
  },
  {
   "cell_type": "markdown",
   "metadata": {},
   "source": [
    "****I filtered the data to include only active spills."
   ]
  },
  {
   "cell_type": "code",
   "execution_count": 27,
   "metadata": {
    "collapsed": false
   },
   "outputs": [
    {
     "name": "stdout",
     "output_type": "stream",
     "text": [
      "1226\n"
     ]
    }
   ],
   "source": [
    "spills6 = spills5.where(lambda row: row['S'] != 'V')\n",
    "print(len(spills6.rows))"
   ]
  },
  {
   "cell_type": "markdown",
   "metadata": {},
   "source": [
    "****I filtered the data to include only active spills."
   ]
  },
  {
   "cell_type": "code",
   "execution_count": 28,
   "metadata": {
    "collapsed": false
   },
   "outputs": [],
   "source": [
    "by_owner = spills6.group_by('OWNCO--------------------')"
   ]
  },
  {
   "cell_type": "markdown",
   "metadata": {},
   "source": [
    "****I grouped the data by the owner of the leaking tank."
   ]
  },
  {
   "cell_type": "code",
   "execution_count": 29,
   "metadata": {
    "collapsed": true
   },
   "outputs": [],
   "source": [
    "totals = by_owner.aggregate([\n",
    "    ('count', agate.Length())])"
   ]
  },
  {
   "cell_type": "markdown",
   "metadata": {},
   "source": [
    "****I counted the number of active spills for each owner."
   ]
  },
  {
   "cell_type": "code",
   "execution_count": 30,
   "metadata": {
    "collapsed": false
   },
   "outputs": [],
   "source": [
    "sorted_totals = totals.order_by('count', reverse=True\n",
    ")"
   ]
  },
  {
   "cell_type": "markdown",
   "metadata": {},
   "source": [
    "****I sorted the table so that the owners wth the most spills appeared first."
   ]
  },
  {
   "cell_type": "code",
   "execution_count": 31,
   "metadata": {
    "collapsed": false
   },
   "outputs": [
    {
     "name": "stdout",
     "output_type": "stream",
     "text": [
      "|----------------------------+--------|\n",
      "|  OWNCO-------------------- | count  |\n",
      "|----------------------------+--------|\n",
      "|  Unknown                   |   110  |\n",
      "|                            |   109  |\n",
      "|  BNSF                      |    29  |\n",
      "|  BENSON 66 INC             |    13  |\n",
      "|  UPRR                      |     9  |\n",
      "|  WHITEHEAD OIL CO          |     7  |\n",
      "|  SAPP BROS                 |     6  |\n",
      "|  BOSSELMAN INC             |     6  |\n",
      "|  OFFUTT AFB                |     6  |\n",
      "|  CITY OF OMAHA             |     5  |\n",
      "|  CONTEMPORARY INDU...      |     5  |\n",
      "|  CASEYS GENERAL ST...      |     4  |\n",
      "|  RITEWAY OIL & GAS...      |     4  |\n",
      "|  ARMY CORPS OF ENG...      |     4  |\n",
      "|  PILOT FLYING J            |     4  |\n",
      "|  NEBR DEPT OF ROADS        |     4  |\n",
      "|  CITY OF LINCOLN           |     3  |\n",
      "|  NPPD                      |     3  |\n",
      "|  KWIK SHOP                 |     3  |\n",
      "|  CENTRAL VALLEY AG...      |     3  |\n",
      "|  ...                       |   ...  |\n",
      "|----------------------------+--------|\n"
     ]
    }
   ],
   "source": [
    "sorted_totals.print_table(max_rows=20)"
   ]
  },
  {
   "cell_type": "markdown",
   "metadata": {
    "collapsed": true
   },
   "source": [
    "****I printed the table"
   ]
  },
  {
   "cell_type": "code",
   "execution_count": null,
   "metadata": {
    "collapsed": true
   },
   "outputs": [],
   "source": []
  }
 ],
 "metadata": {
  "kernelspec": {
   "display_name": "Python 3",
   "language": "python",
   "name": "python3"
  },
  "language_info": {
   "codemirror_mode": {
    "name": "ipython",
    "version": 3
   },
   "file_extension": ".py",
   "mimetype": "text/x-python",
   "name": "python",
   "nbconvert_exporter": "python",
   "pygments_lexer": "ipython3",
   "version": "3.5.1"
  }
 },
 "nbformat": 4,
 "nbformat_minor": 0
}
